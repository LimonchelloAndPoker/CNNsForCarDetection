{
 "cells": [
  {
   "cell_type": "markdown",
   "metadata": {},
   "source": [
    "# Vortrainiertes CNN zur Erkennung von Autos\n",
    "\n",
    "Dieses Notebook implementiert ein vortrainiertes CNN (MobileNetV2) mit Transfer Learning zur Erkennung von Autos im CIFAR-10 Datensatz.\n",
    "\n",
    "## Überblick\n",
    "- Laden eines vortrainierten MobileNetV2-Modells\n",
    "- Anpassung des Modells für die Autoerkennung durch Transfer Learning\n",
    "- Training des angepassten Modells\n",
    "- Evaluierung des Modells auf Testdaten\n",
    "- Visualisierung der Ergebnisse"
   ]
  },
  {
   "cell_type": "markdown",
   "metadata": {},
   "source": [
    "## Importieren der benötigten Bibliotheken"
   ]
  },
  {
   "cell_type": "code",
   "execution_count": null,
   "metadata": {},
   "source": [
    "import os\n",
    "import numpy as np\n",
    "import tensorflow as tf\n",
    "from tensorflow.keras.applications import MobileNetV2\n",
    "from tensorflow.keras.models import Model\n",
    "from tensorflow.keras.layers import Dense, GlobalAveragePooling2D\n",
    "from tensorflow.keras.optimizers import Adam\n",
    "from tensorflow.keras.callbacks import ModelCheckpoint, EarlyStopping\n",
    "import matplotlib.pyplot as plt"
   ]
  },
  {
   "cell_type": "markdown",
   "metadata": {},
   "source": [
    "## Vorbereitung der Verzeichnisse\n",
    "\n",
    "Wir erstellen ein Verzeichnis für die Modelle, falls es noch nicht existiert."
   ]
  },
  {
   "cell_type": "code",
   "execution_count": null,
   "metadata": {},
   "source": [
    "# Verzeichnisse erstellen\n",
    "models_dir = os.path.join('..', 'models')\n",
    "os.makedirs(models_dir, exist_ok=True)"
   ]
  },
  {
   "cell_type": "markdown",
   "metadata": {},
   "source": [
    "## Laden der vorbereiteten Daten\n",
    "\n",
    "Wir laden die im ersten Notebook vorbereiteten Daten."
   ]
  },
  {
   "cell_type": "code",
   "execution_count": null,
   "metadata": {},
   "source": [
    "# Laden der vorbereiteten Daten\n",
    "print(\"Laden der vorbereiteten Daten...\")\n",
    "x_train = np.load(os.path.join('..', 'data', 'x_train.npy'))\n",
    "y_train = np.load(os.path.join('..', 'data', 'y_train.npy'))\n",
    "x_test = np.load(os.path.join('..', 'data', 'x_test.npy'))\n",
    "y_test = np.load(os.path.join('..', 'data', 'y_test.npy'))\n",
    "\n",
    "print(f\"Trainingsdaten: {len(x_train)} Bilder\")\n",
    "print(f\"Testdaten: {len(x_test)} Bilder\")"
   ]
  },
  {
   "cell_type": "markdown",
   "metadata": {},
   "source": [
    "## Vorbereitung der Bilder für das vortrainierte Modell\n",
    "\n",
    "Das vortrainierte MobileNetV2-Modell erwartet Bilder mit einer Größe von 224x224 Pixeln. Wir müssen daher die CIFAR-10 Bilder (32x32 Pixel) auf diese Größe skalieren."
   ]
  },
  {
   "cell_type": "code",
   "execution_count": null,
   "metadata": {},
   "source": [
    "# Bilder auf die Größe anpassen, die das vortrainierte Modell erwartet\n",
    "input_shape = (224, 224, 3)\n",
    "x_train_resized = tf.image.resize(x_train, (input_shape[0], input_shape[1]))\n",
    "x_test_resized = tf.image.resize(x_test, (input_shape[0], input_shape[1]))"
   ]
  },
  {
   "cell_type": "markdown",
   "metadata": {},
   "source": [
    "## Laden des vortrainierten Modells\n",
    "\n",
    "Wir laden das vortrainierte MobileNetV2-Modell, das auf dem ImageNet-Datensatz trainiert wurde. Wir entfernen die oberen Schichten (include_top=False), da wir unsere eigenen Schichten für die Autoerkennung hinzufügen werden."
   ]
  },
  {
   "cell_type": "code",
   "execution_count": null,
   "metadata": {},
   "source": [
    "# Vortrainiertes Modell laden\n",
    "print(\"Laden des vortrainierten MobileNetV2-Modells...\")\n",
    "base_model = MobileNetV2(weights='imagenet', include_top=False, input_shape=input_shape)"
   ]
  },
  {
   "cell_type": "markdown",
   "metadata": {},
   "source": [
    "## Einfrieren der vortrainierten Schichten\n",
    "\n",
    "Wir frieren die Gewichte der vortrainierten Schichten ein, damit sie während des Trainings nicht aktualisiert werden. Dies ist ein wichtiger Schritt beim Transfer Learning, da wir die bereits gelernten Features beibehalten möchten."
   ]
  },
  {
   "cell_type": "code",
   "execution_count": null,
   "metadata": {},
   "source": [
    "# Einfrieren der vortrainierten Schichten\n",
    "for layer in base_model.layers:\n",
    "    layer.trainable = False"
   ]
  },
  {
   "cell_type": "markdown",
   "metadata": {},
   "source": [
    "## Hinzufügen von benutzerdefinierten Schichten\n",
    "\n",
    "Wir fügen benutzerdefinierte Schichten hinzu, um das Modell für unsere spezifische Aufgabe (Autoerkennung) anzupassen:\n",
    "1. GlobalAveragePooling2D: Reduziert die räumlichen Dimensionen\n",
    "2. Dense Layer mit 1024 Neuronen und ReLU-Aktivierung\n",
    "3. Output Layer mit einem Neuron und Sigmoid-Aktivierung für binäre Klassifikation"
   ]
  },
  {
   "cell_type": "code",
   "execution_count": null,
   "metadata": {},
   "source": [
    "# Hinzufügen von benutzerdefinierten Schichten für die Autoerkennung\n",
    "x = base_model.output\n",
    "x = GlobalAveragePooling2D()(x)\n",
    "x = Dense(1024, activation='relu')(x)\n",
    "predictions = Dense(1, activation='sigmoid')(x)\n",
    "\n",
    "# Erstellen des Modells\n",
    "model = Model(inputs=base_model.input, outputs=predictions)"
   ]
  },
  {
   "cell_type": "markdown",
   "metadata": {},
   "source": [
    "## Kompilieren des Modells\n",
    "\n",
    "Wir kompilieren das Modell mit dem Adam-Optimizer, der binären Kreuzentropie als Verlustfunktion und der Genauigkeit als Metrik."
   ]
  },
  {
   "cell_type": "code",
   "execution_count": null,
   "metadata": {},
   "source": [
    "# Kompilieren des Modells\n",
    "model.compile(optimizer=Adam(learning_rate=0.001), \n",
    "              loss='binary_crossentropy', \n",
    "              metrics=['accuracy'])\n",
    "\n",
    "# Zusammenfassung des Modells anzeigen\n",
    "model.summary()"
   ]
  },
  {
   "cell_type": "markdown",
   "metadata": {},
   "source": [
    "## Callbacks für das Training\n",
    "\n",
    "Wir definieren zwei Callbacks für das Training:\n",
    "1. ModelCheckpoint: Speichert das beste Modell basierend auf der Validierungsgenauigkeit\n",
    "2. EarlyStopping: Beendet das Training, wenn sich die Validierungsgenauigkeit für 5 Epochen nicht verbessert"
   ]
  },
  {
   "cell_type": "code",
   "execution_count": null,
   "metadata": {},
   "source": [
    "# Callbacks für das Training\n",
    "checkpoint = ModelCheckpoint(\n",
    "    os.path.join(models_dir, 'pretrained_car_detection_model.keras'),\n",
    "    monitor='val_accuracy',\n",
    "    save_best_only=True,\n",
    "    mode='max',\n",
    "    verbose=1\n",
    ")\n",
    "\n",
    "early_stopping = EarlyStopping(\n",
    "    monitor='val_accuracy',\n",
    "    patience=5,\n",
    "    restore_best_weights=True,\n",
    "    mode='max',\n",
    "    verbose=1\n",
    ")"
   ]
  },
  {
   "cell_type": "markdown",
   "metadata": {},
   "source": [
    "## Training des Modells\n",
    "\n",
    "Wir trainieren das Modell mit den folgenden Parametern:\n",
    "- Maximale Anzahl an Epochen: 20\n",
    "- Batch-Größe: 32\n",
    "- Validierungsdaten: Testdatensatz\n",
    "- Callbacks: ModelCheckpoint und EarlyStopping"
   ]
  },
  {
   "cell_type": "code",
   "execution_count": null,
   "metadata": {},
   "source": [
    "# Training des Modells\n",
    "print(\"Training des vortrainierten Modells...\")\n",
    "history = model.fit(\n",
    "    x_train_resized, y_train,\n",
    "    validation_data=(x_test_resized, y_test),\n",
    "    epochs=20,\n",
    "    batch_size=32,\n",
    "    callbacks=[checkpoint, early_stopping]\n",
    ")"
   ]
  },
  {
   "cell_type": "markdown",
   "metadata": {},
   "source": [
    "## Evaluierung des Modells\n",
    "\n",
    "Wir evaluieren das trainierte Modell auf den Testdaten."
   ]
  },
  {
   "cell_type": "code",
   "execution_count": null,
   "metadata": {},
   "source": [
    "# Evaluierung des Modells\n",
    "print(\"Evaluierung des Modells auf den Testdaten...\")\n",
    "test_loss, test_accuracy = model.evaluate(x_test_resized, y_test)\n",
    "print(f\"Testgenauigkeit: {test_accuracy:.4f}\")"
   ]
  },
  {
   "cell_type": "markdown",
   "metadata": {},
   "source": [
    "## Visualisierung der Trainingsergebnisse\n",
    "\n",
    "Wir visualisieren den Verlauf der Genauigkeit und des Verlusts während des Trainings."
   ]
  },
  {
   "cell_type": "code",
   "execution_count": null,
   "metadata": {},
   "source": [
    "# Visualisierung der Trainingsergebnisse\n",
    "plt.figure(figsize=(12, 4))\n",
    "\n",
    "# Genauigkeit\n",
    "plt.subplot(1, 2, 1)\n",
    "plt.plot(history.history['accuracy'])\n",
    "plt.plot(history.history['val_accuracy'])\n",
    "plt.title('Modellgenauigkeit')\n",
    "plt.ylabel('Genauigkeit')\n",
    "plt.xlabel('Epoche')\n",
    "plt.legend(['Training', 'Validierung'], loc='lower right')\n",
    "\n",
    "# Verlust\n",
    "plt.subplot(1, 2, 2)\n",
    "plt.plot(history.history['loss'])\n",
    "plt.plot(history.history['val_loss'])\n",
    "plt.title('Modellverlust')\n",
    "plt.ylabel('Verlust')\n",
    "plt.xlabel('Epoche')\n",
    "plt.legend(['Training', 'Validierung'], loc='upper right')\n",
    "\n",
    "plt.tight_layout()\n",
    "plt.savefig(os.path.join(models_dir, 'pretrained_model_training.png'))\n",
    "print(f\"Trainingsverlauf wurde gespeichert unter: {os.path.join(models_dir, 'pretrained_model_training.png')}\")"
   ]
  },
  {
   "cell_type": "markdown",
   "metadata": {},
   "source": [
    "## Speichern des Modells\n",
    "\n",
    "Wir speichern das trainierte Modell für die spätere Verwendung."
   ]
  },
  {
   "cell_type": "code",
   "execution_count": null,
   "metadata": {},
   "source": [
    "# Speichern des Modells\n",
    "model.save(os.path.join(models_dir, 'pretrained_car_detection_model.keras'))\n",
    "print(f\"Modell wurde gespeichert unter: {os.path.join(models_dir, 'pretrained_car_detection_model.keras')}\")"
   ]
  },
  {
   "cell_type": "markdown",
   "metadata": {},
   "source": [
    "## Visualisierung der Vorhersagen\n",
    "\n",
    "Wir visualisieren einige Vorhersagen des Modells auf den Testdaten."
   ]
  },
  {
   "cell_type": "code",
   "execution_count": null,
   "metadata": {},
   "source": [
    "# Funktion zur Visualisierung der Vorhersagen\n",
    "def plot_predictions(X, y, predictions, num_images=25):\n",
    "    plt.figure(figsize=(10, 10))\n",
    "    for i in range(min(num_images, len(X))):\n",
    "        plt.subplot(5, 5, i+1)\n",
    "        plt.xticks([])\n",
    "        plt.yticks([])\n",
    "        plt.grid(False)\n",
    "        plt.imshow(X[i])\n",
    "        \n",
    "        color = 'green' if predictions[i] == y[i] else 'red'\n",
    "        label = \"Auto\" if predictions[i] == 1 else \"Kein Auto\"\n",
    "        plt.xlabel(label, color=color)\n",
    "    \n",
    "    plt.tight_layout()\n",
    "    plt.savefig(os.path.join(models_dir, 'pretrained_model_predictions.png'))\n",
    "    print(f\"Vorhersagen wurden gespeichert unter: {os.path.join(models_dir, 'pretrained_model_predictions.png')}\")\n",
    "\n",
    "# Vorhersagen für Testdaten\n",
    "print(\"Generieren von Vorhersagen für Testdaten...\")\n",
    "predictions = (model.predict(x_test_resized) > 0.5).astype(int).flatten()\n",
    "plot_predictions(x_test, y_test, predictions)"
   ]
  },
  {
   "cell_type": "markdown",
   "metadata": {},
   "source": [
    "## Zusammenfassung\n",
    "\n",
    "In diesem Notebook haben wir:\n",
    "1. Ein vortrainiertes MobileNetV2-Modell geladen\n",
    "2. Das Modell für die Autoerkennung angepasst durch Transfer Learning\n",
    "3. Das angepasste Modell trainiert\n",
    "4. Das Modell auf Testdaten evaluiert\n",
    "5. Die Ergebnisse visualisiert\n",
    "\n",
    "Transfer Learning ist eine leistungsstarke Technik, die es uns ermöglicht, von vortrainierten Modellen zu profitieren und sie für spezifische Aufgaben anzupassen. Dies spart Rechenressourcen und Zeit, da wir nicht von Grund auf trainieren müssen."
   ]
  },
  {
   "cell_type": "code",
   "execution_count": null,
   "metadata": {},
   "source": [
    "print(\"Training und Evaluierung des vortrainierten Modells abgeschlossen.\")"
   ]
  }
 ],
 "metadata": {
  "kernelspec": {
   "display_name": "Python 3",
   "language": "python",
   "name": "python3"
  },
  "language_info": {
   "codemirror_mode": {
    "name": "ipython",
    "version": 3
   },
   "file_extension": ".py",
   "mimetype": "text/x-python",
   "name": "python",
   "nbconvert_exporter": "python",
   "pygments_lexer": "ipython3",
   "version": "3.10.12"
  }
 },
 "nbformat": 4,
 "nbformat_minor": 4
}
