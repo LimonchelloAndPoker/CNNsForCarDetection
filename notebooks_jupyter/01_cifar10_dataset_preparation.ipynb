{
 "cells": [
  {
   "cell_type": "markdown",
   "metadata": {},
   "source": [
    "# CIFAR-10 Dataset für CNN-Autoerkennung\n",
    "\n",
    "Dieses Notebook lädt den CIFAR-10 Datensatz und bereitet ihn für das Training unseres CNN zur Autoerkennung vor.\n",
    "\n",
    "## Überblick\n",
    "- Laden des CIFAR-10 Datensatzes\n",
    "- Visualisierung von Beispielbildern\n",
    "- Erstellung binärer Labels (Auto vs. Nicht-Auto)\n",
    "- Normalisierung der Pixelwerte\n",
    "- Speichern der vorbereiteten Daten"
   ]
  },
  {
   "cell_type": "markdown",
   "metadata": {},
   "source": [
    "## Importieren der benötigten Bibliotheken"
   ]
  },
  {
   "cell_type": "code",
   "execution_count": null,
   "metadata": {},
   "source": [
    "import numpy as np\n",
    "import matplotlib.pyplot as plt\n",
    "import tensorflow as tf\n",
    "from tensorflow.keras.datasets import cifar10\n",
    "import os"
   ]
  },
  {
   "cell_type": "markdown",
   "metadata": {},
   "source": [
    "## Erstellen des Datenverzeichnisses\n",
    "\n",
    "Wir erstellen ein Verzeichnis, in dem die vorbereiteten Daten gespeichert werden."
   ]
  },
  {
   "cell_type": "code",
   "execution_count": null,
   "metadata": {},
   "source": [
    "# Erstellen des Datenverzeichnisses\n",
    "data_dir = '../data'\n",
    "os.makedirs(data_dir, exist_ok=True)"
   ]
  },
  {
   "cell_type": "markdown",
   "metadata": {},
   "source": [
    "## Laden des CIFAR-10 Datensatzes\n",
    "\n",
    "Der CIFAR-10 Datensatz enthält 60.000 Farbbilder in 10 Klassen, mit 6.000 Bildern pro Klasse. Die Bilder haben eine Größe von 32x32 Pixeln. Der Datensatz ist in 50.000 Trainingsbilder und 10.000 Testbilder aufgeteilt."
   ]
  },
  {
   "cell_type": "code",
   "execution_count": null,
   "metadata": {},
   "source": [
    "print(\"Laden des CIFAR-10 Datensatzes...\")\n",
    "# Laden des CIFAR-10 Datensatzes\n",
    "(x_train, y_train), (x_test, y_test) = cifar10.load_data()\n",
    "\n",
    "# Klassen im CIFAR-10 Datensatz\n",
    "class_names = ['airplane', 'automobile', 'bird', 'cat', 'deer', 'dog', 'frog', 'horse', 'ship', 'truck']\n",
    "\n",
    "# Ausgabe der Datensatzgröße\n",
    "print(f\"Trainingsdaten: {x_train.shape[0]} Bilder\")\n",
    "print(f\"Testdaten: {x_test.shape[0]} Bilder\")\n",
    "print(f\"Bildgröße: {x_train.shape[1]}x{x_train.shape[2]} Pixel mit {x_train.shape[3]} Farbkanälen\")"
   ]
  },
  {
   "cell_type": "markdown",
   "metadata": {},
   "source": [
    "## Visualisierung von Beispielbildern\n",
    "\n",
    "Wir zeigen einige Beispielbilder aus dem Datensatz an, um einen Eindruck von den Daten zu bekommen."
   ]
  },
  {
   "cell_type": "code",
   "execution_count": null,
   "metadata": {},
   "source": [
    "# Anzeigen einiger Beispielbilder\n",
    "plt.figure(figsize=(10, 10))\n",
    "for i in range(25):\n",
    "    plt.subplot(5, 5, i+1)\n",
    "    plt.xticks([])\n",
    "    plt.yticks([])\n",
    "    plt.grid(False)\n",
    "    plt.imshow(x_train[i])\n",
    "    # Die Labels sind in einem 2D-Array, daher benötigen wir den Index [0]\n",
    "    plt.xlabel(class_names[y_train[i][0]])\n",
    "plt.tight_layout()\n",
    "plt.savefig(os.path.join(data_dir, 'cifar10_examples.png'))\n",
    "print(\"Beispielbilder wurden gespeichert.\")"
   ]
  },
  {
   "cell_type": "markdown",
   "metadata": {},
   "source": [
    "## Erstellung binärer Labels (Auto vs. Nicht-Auto)\n",
    "\n",
    "Da wir nur an der Erkennung von Autos interessiert sind, erstellen wir binäre Labels:\n",
    "- 1 für Bilder der Klasse 'automobile'\n",
    "- 0 für alle anderen Klassen"
   ]
  },
  {
   "cell_type": "code",
   "execution_count": null,
   "metadata": {},
   "source": [
    "# Index der Auto-Klasse im CIFAR-10 Datensatz\n",
    "automobile_class_index = class_names.index('automobile')\n",
    "print(f\"Index der Auto-Klasse: {automobile_class_index}\")\n",
    "\n",
    "# Erstellen von binären Labels (Auto = 1, Nicht-Auto = 0)\n",
    "y_train_binary = (y_train == automobile_class_index).astype(int)\n",
    "y_test_binary = (y_test == automobile_class_index).astype(int)\n",
    "\n",
    "# Anzahl der Auto-Bilder im Trainings- und Testdatensatz\n",
    "train_car_count = np.sum(y_train_binary)\n",
    "test_car_count = np.sum(y_test_binary)\n",
    "\n",
    "print(f\"Anzahl der Auto-Bilder im Trainingsdatensatz: {train_car_count}\")\n",
    "print(f\"Anzahl der Auto-Bilder im Testdatensatz: {test_car_count}\")"
   ]
  },
  {
   "cell_type": "markdown",
   "metadata": {},
   "source": [
    "## Normalisierung der Pixelwerte\n",
    "\n",
    "Wir normalisieren die Pixelwerte auf den Bereich [0, 1], um das Training des neuronalen Netzes zu verbessern."
   ]
  },
  {
   "cell_type": "code",
   "execution_count": null,
   "metadata": {},
   "source": [
    "# Normalisierung der Pixelwerte auf den Bereich [0, 1]\n",
    "x_train = x_train.astype('float32') / 255.0\n",
    "x_test = x_test.astype('float32') / 255.0\n",
    "\n",
    "print(\"Daten wurden normalisiert.\")"
   ]
  },
  {
   "cell_type": "markdown",
   "metadata": {},
   "source": [
    "## Speichern der vorbereiteten Daten\n",
    "\n",
    "Wir speichern die vorbereiteten Daten für die spätere Verwendung."
   ]
  },
  {
   "cell_type": "code",
   "execution_count": null,
   "metadata": {},
   "source": [
    "# Speichern der Daten\n",
    "np.save(os.path.join(data_dir, 'x_train.npy'), x_train)\n",
    "np.save(os.path.join(data_dir, 'y_train.npy'), y_train)\n",
    "np.save(os.path.join(data_dir, 'x_test.npy'), x_test)\n",
    "np.save(os.path.join(data_dir, 'y_test.npy'), y_test)\n",
    "\n",
    "# Speichern der binären Labels\n",
    "np.save(os.path.join(data_dir, 'y_train_binary.npy'), y_train_binary)\n",
    "np.save(os.path.join(data_dir, 'y_test_binary.npy'), y_test_binary)\n",
    "\n",
    "print(\"Daten wurden erfolgreich gespeichert.\")"
   ]
  },
  {
   "cell_type": "markdown",
   "metadata": {},
   "source": [
    "## Visualisierung von Auto-Beispielbildern\n",
    "\n",
    "Wir zeigen einige Beispielbilder von Autos an, um einen Eindruck von den Daten zu bekommen, mit denen wir arbeiten werden."
   ]
  },
  {
   "cell_type": "code",
   "execution_count": null,
   "metadata": {},
   "source": [
    "# Indizes der Auto-Bilder im Trainingsdatensatz\n",
    "car_indices = np.where(y_train == automobile_class_index)[0]\n",
    "\n",
    "# Anzeigen einiger Auto-Beispiele\n",
    "plt.figure(figsize=(10, 5))\n",
    "for i in range(10):\n",
    "    plt.subplot(2, 5, i+1)\n",
    "    plt.xticks([])\n",
    "    plt.yticks([])\n",
    "    plt.grid(False)\n",
    "    plt.imshow(x_train[car_indices[i]])\n",
    "    plt.xlabel('automobile')\n",
    "plt.tight_layout()\n",
    "plt.savefig(os.path.join(data_dir, 'cifar10_car_examples.png'))\n",
    "print(\"Auto-Beispielbilder wurden gespeichert.\")"
   ]
  },
  {
   "cell_type": "markdown",
   "metadata": {},
   "source": [
    "## Zusammenfassung\n",
    "\n",
    "In diesem Notebook haben wir:\n",
    "1. Den CIFAR-10 Datensatz geladen\n",
    "2. Beispielbilder visualisiert\n",
    "3. Binäre Labels für die Autoerkennung erstellt\n",
    "4. Die Pixelwerte normalisiert\n",
    "5. Die vorbereiteten Daten gespeichert\n",
    "\n",
    "Diese vorbereiteten Daten werden in den nächsten Notebooks für das Training unserer CNN-Modelle zur Autoerkennung verwendet."
   ]
  },
  {
   "cell_type": "code",
   "execution_count": null,
   "metadata": {},
   "source": [
    "print(\"Datensatzvorbereitung abgeschlossen.\")"
   ]
  }
 ],
 "metadata": {
  "kernelspec": {
   "display_name": "Python 3",
   "language": "python",
   "name": "python3"
  },
  "language_info": {
   "codemirror_mode": {
    "name": "ipython",
    "version": 3
   },
   "file_extension": ".py",
   "mimetype": "text/x-python",
   "name": "python",
   "nbconvert_exporter": "python",
   "pygments_lexer": "ipython3",
   "version": "3.10.12"
  }
 },
 "nbformat": 4,
 "nbformat_minor": 4
}
