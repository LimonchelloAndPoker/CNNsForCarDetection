{
 "cells": [
  {
   "cell_type": "markdown",
   "metadata": {},
   "source": [
    "# CNN mit Keras/TensorFlow zur Erkennung von Autos\n",
    "\n",
    "Dieses Notebook implementiert ein Convolutional Neural Network (CNN) mit Keras/TensorFlow zur Erkennung von Autos im CIFAR-10 Datensatz.\n",
    "\n",
    "## Überblick\n",
    "- Laden der vorbereiteten Daten aus dem vorherigen Notebook\n",
    "- Definition eines CNN-Modells mit Keras\n",
    "- Training des Modells mit Early Stopping und Checkpointing\n",
    "- Evaluierung des Modells auf Testdaten\n",
    "- Visualisierung des Trainingsverlaufs und der Ergebnisse"
   ]
  },
  {
   "cell_type": "markdown",
   "metadata": {},
   "source": [
    "## Importieren der benötigten Bibliotheken"
   ]
  },
  {
   "cell_type": "code",
   "execution_count": null,
   "metadata": {},
   "source": [
    "import numpy as np\n",
    "import matplotlib.pyplot as plt\n",
    "import tensorflow as tf\n",
    "from tensorflow.keras.models import Sequential\n",
    "from tensorflow.keras.layers import Conv2D, MaxPooling2D, Flatten, Dense, Dropout, BatchNormalization\n",
    "from tensorflow.keras.callbacks import EarlyStopping, ModelCheckpoint\n",
    "from tensorflow.keras.optimizers import Adam\n",
    "import os"
   ]
  },
  {
   "cell_type": "markdown",
   "metadata": {},
   "source": [
    "## Vorbereitung der Verzeichnisse\n",
    "\n",
    "Wir erstellen ein Verzeichnis für die Modelle, falls es noch nicht existiert."
   ]
  },
  {
   "cell_type": "code",
   "execution_count": null,
   "metadata": {},
   "source": [
    "# Verzeichnisse\n",
    "data_dir = '../data'\n",
    "models_dir = '../models'\n",
    "os.makedirs(models_dir, exist_ok=True)"
   ]
  },
  {
   "cell_type": "markdown",
   "metadata": {},
   "source": [
    "## Laden der vorbereiteten Daten\n",
    "\n",
    "Wir laden die im vorherigen Notebook vorbereiteten Daten."
   ]
  },
  {
   "cell_type": "code",
   "execution_count": null,
   "metadata": {},
   "source": [
    "# Laden der vorbereiteten Daten\n",
    "print(\"Laden der vorbereiteten Daten...\")\n",
    "x_train = np.load(os.path.join(data_dir, 'x_train.npy'))\n",
    "y_train = np.load(os.path.join(data_dir, 'y_train.npy'))\n",
    "x_test = np.load(os.path.join(data_dir, 'x_test.npy'))\n",
    "y_test = np.load(os.path.join(data_dir, 'y_test.npy'))\n",
    "y_train_binary = np.load(os.path.join(data_dir, 'y_train_binary.npy'))\n",
    "y_test_binary = np.load(os.path.join(data_dir, 'y_test_binary.npy'))\n",
    "\n",
    "# Klassen im CIFAR-10 Datensatz\n",
    "class_names = ['airplane', 'automobile', 'bird', 'cat', 'deer', 'dog', 'frog', 'horse', 'ship', 'truck']\n",
    "automobile_class_index = class_names.index('automobile')\n",
    "\n",
    "print(f\"Trainingsdaten: {x_train.shape[0]} Bilder\")\n",
    "print(f\"Testdaten: {x_test.shape[0]} Bilder\")\n",
    "print(f\"Anzahl der Auto-Bilder im Trainingsdatensatz: {np.sum(y_train_binary)}\")\n",
    "print(f\"Anzahl der Auto-Bilder im Testdatensatz: {np.sum(y_test_binary)}\")"
   ]
  },
  {
   "cell_type": "markdown",
   "metadata": {},
   "source": [
    "## Definition des CNN-Modells\n",
    "\n",
    "Wir definieren ein CNN-Modell mit mehreren Convolutional Blocks, gefolgt von Fully Connected Layers. Jeder Convolutional Block besteht aus:\n",
    "- Zwei Convolutional Layers mit ReLU-Aktivierung\n",
    "- Batch Normalization nach jeder Convolution\n",
    "- Max Pooling\n",
    "- Dropout zur Regularisierung\n",
    "\n",
    "Die Fully Connected Layers bestehen aus:\n",
    "- Einem Dense Layer mit ReLU-Aktivierung\n",
    "- Batch Normalization\n",
    "- Dropout\n",
    "- Einem Output Layer mit Sigmoid-Aktivierung für binäre Klassifikation"
   ]
  },
  {
   "cell_type": "code",
   "execution_count": null,
   "metadata": {},
   "source": [
    "# Definition des CNN-Modells\n",
    "def create_car_detection_model():\n",
    "    model = Sequential([\n",
    "        # Erster Convolutional Block\n",
    "        Conv2D(32, (3, 3), padding='same', activation='relu', input_shape=(32, 32, 3)),\n",
    "        BatchNormalization(),\n",
    "        Conv2D(32, (3, 3), padding='same', activation='relu'),\n",
    "        BatchNormalization(),\n",
    "        MaxPooling2D(pool_size=(2, 2)),\n",
    "        Dropout(0.25),\n",
    "        \n",
    "        # Zweiter Convolutional Block\n",
    "        Conv2D(64, (3, 3), padding='same', activation='relu'),\n",
    "        BatchNormalization(),\n",
    "        Conv2D(64, (3, 3), padding='same', activation='relu'),\n",
    "        BatchNormalization(),\n",
    "        MaxPooling2D(pool_size=(2, 2)),\n",
    "        Dropout(0.25),\n",
    "        \n",
    "        # Dritter Convolutional Block\n",
    "        Conv2D(128, (3, 3), padding='same', activation='relu'),\n",
    "        BatchNormalization(),\n",
    "        Conv2D(128, (3, 3), padding='same', activation='relu'),\n",
    "        BatchNormalization(),\n",
    "        MaxPooling2D(pool_size=(2, 2)),\n",
    "        Dropout(0.25),\n",
    "        \n",
    "        # Fully Connected Layers\n",
    "        Flatten(),\n",
    "        Dense(512, activation='relu'),\n",
    "        BatchNormalization(),\n",
    "        Dropout(0.5),\n",
    "        Dense(1, activation='sigmoid')  # Binäre Klassifikation: Auto vs. Nicht-Auto\n",
    "    ])\n",
    "    \n",
    "    # Kompilieren des Modells\n",
    "    model.compile(\n",
    "        optimizer=Adam(learning_rate=0.001),\n",
    "        loss='binary_crossentropy',\n",
    "        metrics=['accuracy']\n",
    "    )\n",
    "    \n",
    "    return model"
   ]
  },
  {
   "cell_type": "markdown",
   "metadata": {},
   "source": [
    "## Modell erstellen und Zusammenfassung anzeigen\n",
    "\n",
    "Wir erstellen das Modell und zeigen eine Zusammenfassung der Architektur an."
   ]
  },
  {
   "cell_type": "code",
   "execution_count": null,
   "metadata": {},
   "source": [
    "# Modell erstellen\n",
    "print(\"Erstellen des CNN-Modells...\")\n",
    "model = create_car_detection_model()\n",
    "model.summary()"
   ]
  },
  {
   "cell_type": "markdown",
   "metadata": {},
   "source": [
    "## Callbacks für das Training\n",
    "\n",
    "Wir definieren zwei Callbacks für das Training:\n",
    "1. **Early Stopping**: Beendet das Training, wenn sich die Validation Loss für 10 Epochen nicht verbessert\n",
    "2. **Model Checkpoint**: Speichert das beste Modell basierend auf der Validation Accuracy"
   ]
  },
  {
   "cell_type": "code",
   "execution_count": null,
   "metadata": {},
   "source": [
    "# Callbacks für das Training\n",
    "callbacks = [\n",
    "    EarlyStopping(monitor='val_loss', patience=10, restore_best_weights=True),\n",
    "    ModelCheckpoint(\n",
    "        filepath=os.path.join(models_dir, 'car_detection_model.keras'),\n",
    "        monitor='val_accuracy',\n",
    "        save_best_only=True,\n",
    "        verbose=1\n",
    "    )\n",
    "]"
   ]
  },
  {
   "cell_type": "markdown",
   "metadata": {},
   "source": [
    "## Training des Modells\n",
    "\n",
    "Wir trainieren das Modell mit den folgenden Parametern:\n",
    "- Batch-Größe: 64\n",
    "- Maximale Anzahl an Epochen: 50\n",
    "- Validation Split: 20% der Trainingsdaten\n",
    "- Early Stopping und Model Checkpoint Callbacks"
   ]
  },
  {
   "cell_type": "code",
   "execution_count": null,
   "metadata": {},
   "source": [
    "# Training des Modells\n",
    "print(\"Training des CNN-Modells...\")\n",
    "history = model.fit(\n",
    "    x_train, y_train_binary,\n",
    "    batch_size=64,\n",
    "    epochs=50,\n",
    "    validation_split=0.2,\n",
    "    callbacks=callbacks,\n",
    "    verbose=1\n",
    ")"
   ]
  },
  {
   "cell_type": "markdown",
   "metadata": {},
   "source": [
    "## Speichern des Modells\n",
    "\n",
    "Wir speichern das trainierte Modell für die spätere Verwendung."
   ]
  },
  {
   "cell_type": "code",
   "execution_count": null,
   "metadata": {},
   "source": [
    "# Speichern des Modells\n",
    "model.save(os.path.join(models_dir, 'car_detection_model.keras'))\n",
    "print(f\"Modell wurde gespeichert unter: {os.path.join(models_dir, 'car_detection_model.keras')}\")"
   ]
  },
  {
   "cell_type": "markdown",
   "metadata": {},
   "source": [
    "## Evaluierung des Modells auf den Testdaten\n",
    "\n",
    "Wir evaluieren das trainierte Modell auf den Testdaten, um seine Leistung zu messen."
   ]
  },
  {
   "cell_type": "code",
   "execution_count": null,
   "metadata": {},
   "source": [
    "# Evaluierung des Modells auf den Testdaten\n",
    "print(\"Evaluierung des Modells auf den Testdaten...\")\n",
    "test_loss, test_accuracy = model.evaluate(x_test, y_test_binary)\n",
    "print(f\"Test Accuracy: {test_accuracy:.4f}\")\n",
    "print(f\"Test Loss: {test_loss:.4f}\")"
   ]
  },
  {
   "cell_type": "markdown",
   "metadata": {},
   "source": [
    "## Visualisierung des Trainingsverlaufs\n",
    "\n",
    "Wir visualisieren den Trainingsverlauf, um zu sehen, wie sich Accuracy und Loss während des Trainings entwickelt haben."
   ]
  },
  {
   "cell_type": "code",
   "execution_count": null,
   "metadata": {},
   "source": [
    "# Visualisierung des Trainingsverlaufs\n",
    "plt.figure(figsize=(12, 4))\n",
    "\n",
    "# Accuracy\n",
    "plt.subplot(1, 2, 1)\n",
    "plt.plot(history.history['accuracy'], label='Training Accuracy')\n",
    "plt.plot(history.history['val_accuracy'], label='Validation Accuracy')\n",
    "plt.title('Accuracy')\n",
    "plt.xlabel('Epoch')\n",
    "plt.ylabel('Accuracy')\n",
    "plt.legend()\n",
    "\n",
    "# Loss\n",
    "plt.subplot(1, 2, 2)\n",
    "plt.plot(history.history['loss'], label='Training Loss')\n",
    "plt.plot(history.history['val_loss'], label='Validation Loss')\n",
    "plt.title('Loss')\n",
    "plt.xlabel('Epoch')\n",
    "plt.ylabel('Loss')\n",
    "plt.legend()\n",
    "\n",
    "plt.tight_layout()\n",
    "plt.savefig(os.path.join(models_dir, 'training_history.png'))\n",
    "print(f\"Trainingsverlauf wurde gespeichert unter: {os.path.join(models_dir, 'training_history.png')}\")"
   ]
  },
  {
   "cell_type": "markdown",
   "metadata": {},
   "source": [
    "## Detaillierte Evaluierung mit Precision, Recall und F1-Score\n",
    "\n",
    "Wir berechnen weitere Metriken wie Precision, Recall und F1-Score, um die Leistung des Modells besser zu verstehen."
   ]
  },
  {
   "cell_type": "code",
   "execution_count": null,
   "metadata": {},
   "source": [
    "# Vorhersagen auf den Testdaten\n",
    "y_pred = model.predict(x_test)\n",
    "y_pred_binary = (y_pred > 0.5).astype(int)\n",
    "\n",
    "# Berechnung von Precision, Recall und F1-Score\n",
    "from sklearn.metrics import classification_report, confusion_matrix\n",
    "\n",
    "print(\"Klassifikationsbericht:\")\n",
    "print(classification_report(y_test_binary, y_pred_binary))"
   ]
  },
  {
   "cell_type": "markdown",
   "metadata": {},
   "source": [
    "## Visualisierung der Konfusionsmatrix\n",
    "\n",
    "Die Konfusionsmatrix zeigt uns, wie viele Bilder korrekt und falsch klassifiziert wurden."
   ]
  },
  {
   "cell_type": "code",
   "execution_count": null,
   "metadata": {},
   "source": [
    "# Konfusionsmatrix\n",
    "cm = confusion_matrix(y_test_binary, y_pred_binary)\n",
    "plt.figure(figsize=(8, 6))\n",
    "plt.imshow(cm, interpolation='nearest', cmap=plt.cm.Blues)\n",
    "plt.title('Konfusionsmatrix')\n",
    "plt.colorbar()\n",
    "tick_marks = np.arange(2)\n",
    "plt.xticks(tick_marks, ['Nicht-Auto', 'Auto'])\n",
    "plt.yticks(tick_marks, ['Nicht-Auto', 'Auto'])\n",
    "\n",
    "# Beschriftung der Zellen mit den Werten\n",
    "thresh = cm.max() / 2.\n",
    "for i in range(cm.shape[0]):\n",
    "    for j in range(cm.shape[1]):\n",
    "        plt.text(j, i, format(cm[i, j], 'd'),\n",
    "                 horizontalalignment=\"center\",\n",
    "                 color=\"white\" if cm[i, j] > thresh else \"black\")\n",
    "\n",
    "plt.tight_layout()\n",
    "plt.ylabel('Tatsächliche Klasse')\n",
    "plt.xlabel('Vorhergesagte Klasse')\n",
    "plt.savefig(os.path.join(models_dir, 'confusion_matrix.png'))\n",
    "print(f\"Konfusionsmatrix wurde gespeichert unter: {os.path.join(models_dir, 'confusion_matrix.png')}\")"
   ]
  },
  {
   "cell_type": "markdown",
   "metadata": {},
   "source": [
    "## Visualisierung einiger Vorhersagen\n",
    "\n",
    "Wir visualisieren einige Vorhersagen des Modells, um zu sehen, welche Bilder korrekt und falsch klassifiziert wurden."
   ]
  },
  {
   "cell_type": "code",
   "execution_count": null,
   "metadata": {},
   "source": [
    "# Visualisierung einiger Vorhersagen\n",
    "def plot_predictions(x, y_true, y_pred, class_names, num_images=25):\n",
    "    plt.figure(figsize=(10, 10))\n",
    "    for i in range(num_images):\n",
    "        plt.subplot(5, 5, i+1)\n",
    "        plt.xticks([])\n",
    "        plt.yticks([])\n",
    "        plt.grid(False)\n",
    "        plt.imshow(x[i])\n",
    "        \n",
    "        predicted = \"Auto\" if y_pred[i] > 0.5 else \"Nicht-Auto\"\n",
    "        actual = \"Auto\" if y_true[i] == 1 else \"Nicht-Auto\"\n",
    "        \n",
    "        color = 'green' if predicted == actual else 'red'\n",
    "        plt.xlabel(f\"P: {predicted}, A: {actual}\", color=color)\n",
    "    \n",
    "    plt.tight_layout()\n",
    "    plt.savefig(os.path.join(models_dir, 'prediction_examples.png'))\n",
    "    print(f\"Vorhersagebeispiele wurden gespeichert unter: {os.path.join(models_dir, 'prediction_examples.png')}\")\n",
    "\n",
    "# Zufällige Auswahl von Testbildern\n",
    "np.random.seed(42)\n",
    "random_indices = np.random.choice(len(x_test), 25, replace=False)\n",
    "plot_predictions(\n",
    "    x_test[random_indices],\n",
    "    y_test_binary[random_indices],\n",
    "    y_pred[random_indices],\n",
    "    class_names\n",
    ")"
   ]
  },
  {
   "cell_type": "markdown",
   "metadata": {},
   "source": [
    "## Zusammenfassung\n",
    "\n",
    "In diesem Notebook haben wir:\n",
    "1. Ein CNN-Modell mit Keras/TensorFlow zur Erkennung von Autos definiert\n",
    "2. Das Modell auf dem CIFAR-10 Datensatz trainiert\n",
    "3. Das Modell auf den Testdaten evaluiert\n",
    "4. Den Trainingsverlauf und die Ergebnisse visualisiert\n",
    "\n",
    "Das trainierte Modell kann nun für die Erkennung von Autos in Bildern verwendet werden, wie wir in den nächsten Notebooks sehen werden."
   ]
  },
  {
   "cell_type": "code",
   "execution_count": null,
   "metadata": {},
   "source": [
    "print(\"CNN-Modell mit Keras/TensorFlow wurde erfolgreich trainiert und evaluiert.\")"
   ]
  }
 ],
 "metadata": {
  "kernelspec": {
   "display_name": "Python 3",
   "language": "python",
   "name": "python3"
  },
  "language_info": {
   "codemirror_mode": {
    "name": "ipython",
    "version": 3
   },
   "file_extension": ".py",
   "mimetype": "text/x-python",
   "name": "python",
   "nbconvert_exporter": "python",
   "pygments_lexer": "ipython3",
   "version": "3.10.12"
  }
 },
 "nbformat": 4,
 "nbformat_minor": 4
}
